{
 "cells": [
  {
   "cell_type": "markdown",
   "metadata": {},
   "source": [
    "###  Introduction\n",
    "Cars dataset with features including make, model, year, engine, and other properties of the car used to predict its price.\n",
    "\n",
    "Effects of features on the price\n",
    "\n",
    "Predict the price of Cars using different Variables"
   ]
  },
  {
   "cell_type": "markdown",
   "metadata": {},
   "source": [
    "### Importing Libraries"
   ]
  },
  {
   "cell_type": "code",
   "execution_count": 32,
   "metadata": {
    "execution": {
     "iopub.execute_input": "2021-09-17T08:05:44.464886Z",
     "iopub.status.busy": "2021-09-17T08:05:44.464575Z",
     "iopub.status.idle": "2021-09-17T08:05:45.631332Z",
     "shell.execute_reply": "2021-09-17T08:05:45.630261Z",
     "shell.execute_reply.started": "2021-09-17T08:05:44.464857Z"
    }
   },
   "outputs": [],
   "source": [
    "import pandas as pd\n",
    "import numpy as np\n",
    "import matplotlib.pyplot as plt\n",
    "import seaborn as sns\n"
   ]
  },
  {
   "cell_type": "markdown",
   "metadata": {},
   "source": [
    "### Loading and Reading Data"
   ]
  },
  {
   "cell_type": "code",
   "execution_count": 33,
   "metadata": {
    "execution": {
     "iopub.execute_input": "2021-09-17T08:05:45.632894Z",
     "iopub.status.busy": "2021-09-17T08:05:45.632660Z",
     "iopub.status.idle": "2021-09-17T08:05:45.728189Z",
     "shell.execute_reply": "2021-09-17T08:05:45.727289Z",
     "shell.execute_reply.started": "2021-09-17T08:05:45.632868Z"
    }
   },
   "outputs": [
    {
     "data": {
      "text/html": [
       "<div>\n",
       "<style scoped>\n",
       "    .dataframe tbody tr th:only-of-type {\n",
       "        vertical-align: middle;\n",
       "    }\n",
       "\n",
       "    .dataframe tbody tr th {\n",
       "        vertical-align: top;\n",
       "    }\n",
       "\n",
       "    .dataframe thead th {\n",
       "        text-align: right;\n",
       "    }\n",
       "</style>\n",
       "<table border=\"1\" class=\"dataframe\">\n",
       "  <thead>\n",
       "    <tr style=\"text-align: right;\">\n",
       "      <th></th>\n",
       "      <th>Make</th>\n",
       "      <th>Model</th>\n",
       "      <th>Year</th>\n",
       "      <th>Engine Fuel Type</th>\n",
       "      <th>Engine HP</th>\n",
       "      <th>Engine Cylinders</th>\n",
       "      <th>Transmission Type</th>\n",
       "      <th>Driven_Wheels</th>\n",
       "      <th>Number of Doors</th>\n",
       "      <th>Market Category</th>\n",
       "      <th>Vehicle Size</th>\n",
       "      <th>Vehicle Style</th>\n",
       "      <th>highway MPG</th>\n",
       "      <th>city mpg</th>\n",
       "      <th>Popularity</th>\n",
       "      <th>MSRP</th>\n",
       "    </tr>\n",
       "  </thead>\n",
       "  <tbody>\n",
       "    <tr>\n",
       "      <th>0</th>\n",
       "      <td>BMW</td>\n",
       "      <td>1 Series M</td>\n",
       "      <td>2011</td>\n",
       "      <td>premium unleaded (required)</td>\n",
       "      <td>335.0</td>\n",
       "      <td>6.0</td>\n",
       "      <td>MANUAL</td>\n",
       "      <td>rear wheel drive</td>\n",
       "      <td>2.0</td>\n",
       "      <td>Factory Tuner,Luxury,High-Performance</td>\n",
       "      <td>Compact</td>\n",
       "      <td>Coupe</td>\n",
       "      <td>26</td>\n",
       "      <td>19</td>\n",
       "      <td>3916</td>\n",
       "      <td>46135</td>\n",
       "    </tr>\n",
       "    <tr>\n",
       "      <th>1</th>\n",
       "      <td>BMW</td>\n",
       "      <td>1 Series</td>\n",
       "      <td>2011</td>\n",
       "      <td>premium unleaded (required)</td>\n",
       "      <td>300.0</td>\n",
       "      <td>6.0</td>\n",
       "      <td>MANUAL</td>\n",
       "      <td>rear wheel drive</td>\n",
       "      <td>2.0</td>\n",
       "      <td>Luxury,Performance</td>\n",
       "      <td>Compact</td>\n",
       "      <td>Convertible</td>\n",
       "      <td>28</td>\n",
       "      <td>19</td>\n",
       "      <td>3916</td>\n",
       "      <td>40650</td>\n",
       "    </tr>\n",
       "    <tr>\n",
       "      <th>2</th>\n",
       "      <td>BMW</td>\n",
       "      <td>1 Series</td>\n",
       "      <td>2011</td>\n",
       "      <td>premium unleaded (required)</td>\n",
       "      <td>300.0</td>\n",
       "      <td>6.0</td>\n",
       "      <td>MANUAL</td>\n",
       "      <td>rear wheel drive</td>\n",
       "      <td>2.0</td>\n",
       "      <td>Luxury,High-Performance</td>\n",
       "      <td>Compact</td>\n",
       "      <td>Coupe</td>\n",
       "      <td>28</td>\n",
       "      <td>20</td>\n",
       "      <td>3916</td>\n",
       "      <td>36350</td>\n",
       "    </tr>\n",
       "    <tr>\n",
       "      <th>3</th>\n",
       "      <td>BMW</td>\n",
       "      <td>1 Series</td>\n",
       "      <td>2011</td>\n",
       "      <td>premium unleaded (required)</td>\n",
       "      <td>230.0</td>\n",
       "      <td>6.0</td>\n",
       "      <td>MANUAL</td>\n",
       "      <td>rear wheel drive</td>\n",
       "      <td>2.0</td>\n",
       "      <td>Luxury,Performance</td>\n",
       "      <td>Compact</td>\n",
       "      <td>Coupe</td>\n",
       "      <td>28</td>\n",
       "      <td>18</td>\n",
       "      <td>3916</td>\n",
       "      <td>29450</td>\n",
       "    </tr>\n",
       "    <tr>\n",
       "      <th>4</th>\n",
       "      <td>BMW</td>\n",
       "      <td>1 Series</td>\n",
       "      <td>2011</td>\n",
       "      <td>premium unleaded (required)</td>\n",
       "      <td>230.0</td>\n",
       "      <td>6.0</td>\n",
       "      <td>MANUAL</td>\n",
       "      <td>rear wheel drive</td>\n",
       "      <td>2.0</td>\n",
       "      <td>Luxury</td>\n",
       "      <td>Compact</td>\n",
       "      <td>Convertible</td>\n",
       "      <td>28</td>\n",
       "      <td>18</td>\n",
       "      <td>3916</td>\n",
       "      <td>34500</td>\n",
       "    </tr>\n",
       "  </tbody>\n",
       "</table>\n",
       "</div>"
      ],
      "text/plain": [
       "  Make       Model  Year             Engine Fuel Type  Engine HP  \\\n",
       "0  BMW  1 Series M  2011  premium unleaded (required)      335.0   \n",
       "1  BMW    1 Series  2011  premium unleaded (required)      300.0   \n",
       "2  BMW    1 Series  2011  premium unleaded (required)      300.0   \n",
       "3  BMW    1 Series  2011  premium unleaded (required)      230.0   \n",
       "4  BMW    1 Series  2011  premium unleaded (required)      230.0   \n",
       "\n",
       "   Engine Cylinders Transmission Type     Driven_Wheels  Number of Doors  \\\n",
       "0               6.0            MANUAL  rear wheel drive              2.0   \n",
       "1               6.0            MANUAL  rear wheel drive              2.0   \n",
       "2               6.0            MANUAL  rear wheel drive              2.0   \n",
       "3               6.0            MANUAL  rear wheel drive              2.0   \n",
       "4               6.0            MANUAL  rear wheel drive              2.0   \n",
       "\n",
       "                         Market Category Vehicle Size Vehicle Style  \\\n",
       "0  Factory Tuner,Luxury,High-Performance      Compact         Coupe   \n",
       "1                     Luxury,Performance      Compact   Convertible   \n",
       "2                Luxury,High-Performance      Compact         Coupe   \n",
       "3                     Luxury,Performance      Compact         Coupe   \n",
       "4                                 Luxury      Compact   Convertible   \n",
       "\n",
       "   highway MPG  city mpg  Popularity   MSRP  \n",
       "0           26        19        3916  46135  \n",
       "1           28        19        3916  40650  \n",
       "2           28        20        3916  36350  \n",
       "3           28        18        3916  29450  \n",
       "4           28        18        3916  34500  "
      ]
     },
     "execution_count": 33,
     "metadata": {},
     "output_type": "execute_result"
    }
   ],
   "source": [
    "df = pd.read_csv('data.csv')\n",
    "df.head()"
   ]
  },
  {
   "cell_type": "markdown",
   "metadata": {},
   "source": [
    "### Data Cleaning: Cleaning Strings in Column and values"
   ]
  },
  {
   "cell_type": "code",
   "execution_count": 34,
   "metadata": {
    "execution": {
     "iopub.execute_input": "2021-09-17T08:05:45.729785Z",
     "iopub.status.busy": "2021-09-17T08:05:45.729521Z",
     "iopub.status.idle": "2021-09-17T08:05:45.754600Z",
     "shell.execute_reply": "2021-09-17T08:05:45.753814Z",
     "shell.execute_reply.started": "2021-09-17T08:05:45.729753Z"
    }
   },
   "outputs": [
    {
     "data": {
      "text/html": [
       "<div>\n",
       "<style scoped>\n",
       "    .dataframe tbody tr th:only-of-type {\n",
       "        vertical-align: middle;\n",
       "    }\n",
       "\n",
       "    .dataframe tbody tr th {\n",
       "        vertical-align: top;\n",
       "    }\n",
       "\n",
       "    .dataframe thead th {\n",
       "        text-align: right;\n",
       "    }\n",
       "</style>\n",
       "<table border=\"1\" class=\"dataframe\">\n",
       "  <thead>\n",
       "    <tr style=\"text-align: right;\">\n",
       "      <th></th>\n",
       "      <th>make</th>\n",
       "      <th>model</th>\n",
       "      <th>year</th>\n",
       "      <th>engine_fuel_type</th>\n",
       "      <th>engine_hp</th>\n",
       "      <th>engine_cylinders</th>\n",
       "      <th>transmission_type</th>\n",
       "      <th>driven_wheels</th>\n",
       "      <th>number_of_doors</th>\n",
       "      <th>market_category</th>\n",
       "      <th>vehicle_size</th>\n",
       "      <th>vehicle_style</th>\n",
       "      <th>highway_mpg</th>\n",
       "      <th>city_mpg</th>\n",
       "      <th>popularity</th>\n",
       "      <th>msrp</th>\n",
       "    </tr>\n",
       "  </thead>\n",
       "  <tbody>\n",
       "    <tr>\n",
       "      <th>0</th>\n",
       "      <td>BMW</td>\n",
       "      <td>1 Series M</td>\n",
       "      <td>2011</td>\n",
       "      <td>premium unleaded (required)</td>\n",
       "      <td>335.0</td>\n",
       "      <td>6.0</td>\n",
       "      <td>MANUAL</td>\n",
       "      <td>rear wheel drive</td>\n",
       "      <td>2.0</td>\n",
       "      <td>Factory Tuner,Luxury,High-Performance</td>\n",
       "      <td>Compact</td>\n",
       "      <td>Coupe</td>\n",
       "      <td>26</td>\n",
       "      <td>19</td>\n",
       "      <td>3916</td>\n",
       "      <td>46135</td>\n",
       "    </tr>\n",
       "    <tr>\n",
       "      <th>1</th>\n",
       "      <td>BMW</td>\n",
       "      <td>1 Series</td>\n",
       "      <td>2011</td>\n",
       "      <td>premium unleaded (required)</td>\n",
       "      <td>300.0</td>\n",
       "      <td>6.0</td>\n",
       "      <td>MANUAL</td>\n",
       "      <td>rear wheel drive</td>\n",
       "      <td>2.0</td>\n",
       "      <td>Luxury,Performance</td>\n",
       "      <td>Compact</td>\n",
       "      <td>Convertible</td>\n",
       "      <td>28</td>\n",
       "      <td>19</td>\n",
       "      <td>3916</td>\n",
       "      <td>40650</td>\n",
       "    </tr>\n",
       "    <tr>\n",
       "      <th>2</th>\n",
       "      <td>BMW</td>\n",
       "      <td>1 Series</td>\n",
       "      <td>2011</td>\n",
       "      <td>premium unleaded (required)</td>\n",
       "      <td>300.0</td>\n",
       "      <td>6.0</td>\n",
       "      <td>MANUAL</td>\n",
       "      <td>rear wheel drive</td>\n",
       "      <td>2.0</td>\n",
       "      <td>Luxury,High-Performance</td>\n",
       "      <td>Compact</td>\n",
       "      <td>Coupe</td>\n",
       "      <td>28</td>\n",
       "      <td>20</td>\n",
       "      <td>3916</td>\n",
       "      <td>36350</td>\n",
       "    </tr>\n",
       "    <tr>\n",
       "      <th>3</th>\n",
       "      <td>BMW</td>\n",
       "      <td>1 Series</td>\n",
       "      <td>2011</td>\n",
       "      <td>premium unleaded (required)</td>\n",
       "      <td>230.0</td>\n",
       "      <td>6.0</td>\n",
       "      <td>MANUAL</td>\n",
       "      <td>rear wheel drive</td>\n",
       "      <td>2.0</td>\n",
       "      <td>Luxury,Performance</td>\n",
       "      <td>Compact</td>\n",
       "      <td>Coupe</td>\n",
       "      <td>28</td>\n",
       "      <td>18</td>\n",
       "      <td>3916</td>\n",
       "      <td>29450</td>\n",
       "    </tr>\n",
       "    <tr>\n",
       "      <th>4</th>\n",
       "      <td>BMW</td>\n",
       "      <td>1 Series</td>\n",
       "      <td>2011</td>\n",
       "      <td>premium unleaded (required)</td>\n",
       "      <td>230.0</td>\n",
       "      <td>6.0</td>\n",
       "      <td>MANUAL</td>\n",
       "      <td>rear wheel drive</td>\n",
       "      <td>2.0</td>\n",
       "      <td>Luxury</td>\n",
       "      <td>Compact</td>\n",
       "      <td>Convertible</td>\n",
       "      <td>28</td>\n",
       "      <td>18</td>\n",
       "      <td>3916</td>\n",
       "      <td>34500</td>\n",
       "    </tr>\n",
       "  </tbody>\n",
       "</table>\n",
       "</div>"
      ],
      "text/plain": [
       "  make       model  year             engine_fuel_type  engine_hp  \\\n",
       "0  BMW  1 Series M  2011  premium unleaded (required)      335.0   \n",
       "1  BMW    1 Series  2011  premium unleaded (required)      300.0   \n",
       "2  BMW    1 Series  2011  premium unleaded (required)      300.0   \n",
       "3  BMW    1 Series  2011  premium unleaded (required)      230.0   \n",
       "4  BMW    1 Series  2011  premium unleaded (required)      230.0   \n",
       "\n",
       "   engine_cylinders transmission_type     driven_wheels  number_of_doors  \\\n",
       "0               6.0            MANUAL  rear wheel drive              2.0   \n",
       "1               6.0            MANUAL  rear wheel drive              2.0   \n",
       "2               6.0            MANUAL  rear wheel drive              2.0   \n",
       "3               6.0            MANUAL  rear wheel drive              2.0   \n",
       "4               6.0            MANUAL  rear wheel drive              2.0   \n",
       "\n",
       "                         market_category vehicle_size vehicle_style  \\\n",
       "0  Factory Tuner,Luxury,High-Performance      Compact         Coupe   \n",
       "1                     Luxury,Performance      Compact   Convertible   \n",
       "2                Luxury,High-Performance      Compact         Coupe   \n",
       "3                     Luxury,Performance      Compact         Coupe   \n",
       "4                                 Luxury      Compact   Convertible   \n",
       "\n",
       "   highway_mpg  city_mpg  popularity   msrp  \n",
       "0           26        19        3916  46135  \n",
       "1           28        19        3916  40650  \n",
       "2           28        20        3916  36350  \n",
       "3           28        18        3916  29450  \n",
       "4           28        18        3916  34500  "
      ]
     },
     "execution_count": 34,
     "metadata": {},
     "output_type": "execute_result"
    }
   ],
   "source": [
    "df.columns = df.columns.str.lower().str.replace(\" \", \"_\")\n",
    "df.head()"
   ]
  },
  {
   "cell_type": "markdown",
   "metadata": {},
   "source": [
    "### Making List of Categorical Columns"
   ]
  },
  {
   "cell_type": "code",
   "execution_count": 35,
   "metadata": {
    "execution": {
     "iopub.execute_input": "2021-09-17T08:05:45.757682Z",
     "iopub.status.busy": "2021-09-17T08:05:45.756835Z",
     "iopub.status.idle": "2021-09-17T08:05:45.770164Z",
     "shell.execute_reply": "2021-09-17T08:05:45.769491Z",
     "shell.execute_reply.started": "2021-09-17T08:05:45.757629Z"
    }
   },
   "outputs": [
    {
     "data": {
      "text/plain": [
       "['make',\n",
       " 'model',\n",
       " 'engine_fuel_type',\n",
       " 'transmission_type',\n",
       " 'driven_wheels',\n",
       " 'market_category',\n",
       " 'vehicle_size',\n",
       " 'vehicle_style']"
      ]
     },
     "execution_count": 35,
     "metadata": {},
     "output_type": "execute_result"
    }
   ],
   "source": [
    "\n",
    "\n",
    "strings = list(df.dtypes[df.dtypes == 'object'].index)\n",
    "strings\n",
    "\n",
    "\n",
    "# Other methods \n",
    "# list(df.select_dtypes(include = 'O').columns)\n",
    "# [col for col in df.columns if df[col].dtype == 'object']"
   ]
  },
  {
   "cell_type": "markdown",
   "metadata": {},
   "source": [
    "### Cleaning Categorical Data in our data set"
   ]
  },
  {
   "cell_type": "code",
   "execution_count": 36,
   "metadata": {
    "execution": {
     "iopub.execute_input": "2021-09-17T08:05:45.771860Z",
     "iopub.status.busy": "2021-09-17T08:05:45.771576Z",
     "iopub.status.idle": "2021-09-17T08:05:45.931491Z",
     "shell.execute_reply": "2021-09-17T08:05:45.930564Z",
     "shell.execute_reply.started": "2021-09-17T08:05:45.771827Z"
    }
   },
   "outputs": [
    {
     "data": {
      "text/html": [
       "<div>\n",
       "<style scoped>\n",
       "    .dataframe tbody tr th:only-of-type {\n",
       "        vertical-align: middle;\n",
       "    }\n",
       "\n",
       "    .dataframe tbody tr th {\n",
       "        vertical-align: top;\n",
       "    }\n",
       "\n",
       "    .dataframe thead th {\n",
       "        text-align: right;\n",
       "    }\n",
       "</style>\n",
       "<table border=\"1\" class=\"dataframe\">\n",
       "  <thead>\n",
       "    <tr style=\"text-align: right;\">\n",
       "      <th></th>\n",
       "      <th>make</th>\n",
       "      <th>model</th>\n",
       "      <th>year</th>\n",
       "      <th>engine_fuel_type</th>\n",
       "      <th>engine_hp</th>\n",
       "      <th>engine_cylinders</th>\n",
       "      <th>transmission_type</th>\n",
       "      <th>driven_wheels</th>\n",
       "      <th>number_of_doors</th>\n",
       "      <th>market_category</th>\n",
       "      <th>vehicle_size</th>\n",
       "      <th>vehicle_style</th>\n",
       "      <th>highway_mpg</th>\n",
       "      <th>city_mpg</th>\n",
       "      <th>popularity</th>\n",
       "      <th>msrp</th>\n",
       "    </tr>\n",
       "  </thead>\n",
       "  <tbody>\n",
       "    <tr>\n",
       "      <th>0</th>\n",
       "      <td>bmw</td>\n",
       "      <td>1_series_m</td>\n",
       "      <td>2011</td>\n",
       "      <td>premium_unleaded_(required)</td>\n",
       "      <td>335.0</td>\n",
       "      <td>6.0</td>\n",
       "      <td>manual</td>\n",
       "      <td>rear_wheel_drive</td>\n",
       "      <td>2.0</td>\n",
       "      <td>factory_tuner,luxury,high-performance</td>\n",
       "      <td>compact</td>\n",
       "      <td>coupe</td>\n",
       "      <td>26</td>\n",
       "      <td>19</td>\n",
       "      <td>3916</td>\n",
       "      <td>46135</td>\n",
       "    </tr>\n",
       "    <tr>\n",
       "      <th>1</th>\n",
       "      <td>bmw</td>\n",
       "      <td>1_series</td>\n",
       "      <td>2011</td>\n",
       "      <td>premium_unleaded_(required)</td>\n",
       "      <td>300.0</td>\n",
       "      <td>6.0</td>\n",
       "      <td>manual</td>\n",
       "      <td>rear_wheel_drive</td>\n",
       "      <td>2.0</td>\n",
       "      <td>luxury,performance</td>\n",
       "      <td>compact</td>\n",
       "      <td>convertible</td>\n",
       "      <td>28</td>\n",
       "      <td>19</td>\n",
       "      <td>3916</td>\n",
       "      <td>40650</td>\n",
       "    </tr>\n",
       "    <tr>\n",
       "      <th>2</th>\n",
       "      <td>bmw</td>\n",
       "      <td>1_series</td>\n",
       "      <td>2011</td>\n",
       "      <td>premium_unleaded_(required)</td>\n",
       "      <td>300.0</td>\n",
       "      <td>6.0</td>\n",
       "      <td>manual</td>\n",
       "      <td>rear_wheel_drive</td>\n",
       "      <td>2.0</td>\n",
       "      <td>luxury,high-performance</td>\n",
       "      <td>compact</td>\n",
       "      <td>coupe</td>\n",
       "      <td>28</td>\n",
       "      <td>20</td>\n",
       "      <td>3916</td>\n",
       "      <td>36350</td>\n",
       "    </tr>\n",
       "    <tr>\n",
       "      <th>3</th>\n",
       "      <td>bmw</td>\n",
       "      <td>1_series</td>\n",
       "      <td>2011</td>\n",
       "      <td>premium_unleaded_(required)</td>\n",
       "      <td>230.0</td>\n",
       "      <td>6.0</td>\n",
       "      <td>manual</td>\n",
       "      <td>rear_wheel_drive</td>\n",
       "      <td>2.0</td>\n",
       "      <td>luxury,performance</td>\n",
       "      <td>compact</td>\n",
       "      <td>coupe</td>\n",
       "      <td>28</td>\n",
       "      <td>18</td>\n",
       "      <td>3916</td>\n",
       "      <td>29450</td>\n",
       "    </tr>\n",
       "    <tr>\n",
       "      <th>4</th>\n",
       "      <td>bmw</td>\n",
       "      <td>1_series</td>\n",
       "      <td>2011</td>\n",
       "      <td>premium_unleaded_(required)</td>\n",
       "      <td>230.0</td>\n",
       "      <td>6.0</td>\n",
       "      <td>manual</td>\n",
       "      <td>rear_wheel_drive</td>\n",
       "      <td>2.0</td>\n",
       "      <td>luxury</td>\n",
       "      <td>compact</td>\n",
       "      <td>convertible</td>\n",
       "      <td>28</td>\n",
       "      <td>18</td>\n",
       "      <td>3916</td>\n",
       "      <td>34500</td>\n",
       "    </tr>\n",
       "  </tbody>\n",
       "</table>\n",
       "</div>"
      ],
      "text/plain": [
       "  make       model  year             engine_fuel_type  engine_hp  \\\n",
       "0  bmw  1_series_m  2011  premium_unleaded_(required)      335.0   \n",
       "1  bmw    1_series  2011  premium_unleaded_(required)      300.0   \n",
       "2  bmw    1_series  2011  premium_unleaded_(required)      300.0   \n",
       "3  bmw    1_series  2011  premium_unleaded_(required)      230.0   \n",
       "4  bmw    1_series  2011  premium_unleaded_(required)      230.0   \n",
       "\n",
       "   engine_cylinders transmission_type     driven_wheels  number_of_doors  \\\n",
       "0               6.0            manual  rear_wheel_drive              2.0   \n",
       "1               6.0            manual  rear_wheel_drive              2.0   \n",
       "2               6.0            manual  rear_wheel_drive              2.0   \n",
       "3               6.0            manual  rear_wheel_drive              2.0   \n",
       "4               6.0            manual  rear_wheel_drive              2.0   \n",
       "\n",
       "                         market_category vehicle_size vehicle_style  \\\n",
       "0  factory_tuner,luxury,high-performance      compact         coupe   \n",
       "1                     luxury,performance      compact   convertible   \n",
       "2                luxury,high-performance      compact         coupe   \n",
       "3                     luxury,performance      compact         coupe   \n",
       "4                                 luxury      compact   convertible   \n",
       "\n",
       "   highway_mpg  city_mpg  popularity   msrp  \n",
       "0           26        19        3916  46135  \n",
       "1           28        19        3916  40650  \n",
       "2           28        20        3916  36350  \n",
       "3           28        18        3916  29450  \n",
       "4           28        18        3916  34500  "
      ]
     },
     "execution_count": 36,
     "metadata": {},
     "output_type": "execute_result"
    }
   ],
   "source": [
    "for col in strings:\n",
    "    df[col] = df[col].str.lower().str.replace(\" \", \"_\")\n",
    "    \n",
    "df.head()"
   ]
  },
  {
   "cell_type": "markdown",
   "metadata": {},
   "source": [
    "# Exploratory Data Analysis"
   ]
  },
  {
   "cell_type": "markdown",
   "metadata": {},
   "source": [
    "## Unique values and their numbers"
   ]
  },
  {
   "cell_type": "code",
   "execution_count": 37,
   "metadata": {
    "execution": {
     "iopub.execute_input": "2021-09-17T08:05:45.932953Z",
     "iopub.status.busy": "2021-09-17T08:05:45.932676Z",
     "iopub.status.idle": "2021-09-17T08:05:45.988863Z",
     "shell.execute_reply": "2021-09-17T08:05:45.987954Z",
     "shell.execute_reply.started": "2021-09-17T08:05:45.932923Z"
    }
   },
   "outputs": [
    {
     "name": "stdout",
     "output_type": "stream",
     "text": [
      "make\n",
      "['bmw' 'audi' 'fiat' 'mercedes-benz' 'chrysler']\n",
      "48\n",
      "\n",
      "\n",
      "model\n",
      "['1_series_m' '1_series' '100' '124_spider' '190-class']\n",
      "914\n",
      "\n",
      "\n",
      "year\n",
      "[2011 2012 2013 1992 1993]\n",
      "28\n",
      "\n",
      "\n",
      "engine_fuel_type\n",
      "['premium_unleaded_(required)' 'regular_unleaded'\n",
      " 'premium_unleaded_(recommended)' 'flex-fuel_(unleaded/e85)' 'diesel']\n",
      "10\n",
      "\n",
      "\n",
      "engine_hp\n",
      "[335. 300. 230. 320. 172.]\n",
      "356\n",
      "\n",
      "\n",
      "engine_cylinders\n",
      "[ 6.  4.  5.  8. 12.]\n",
      "9\n",
      "\n",
      "\n",
      "transmission_type\n",
      "['manual' 'automatic' 'automated_manual' 'direct_drive' 'unknown']\n",
      "5\n",
      "\n",
      "\n",
      "driven_wheels\n",
      "['rear_wheel_drive' 'front_wheel_drive' 'all_wheel_drive'\n",
      " 'four_wheel_drive']\n",
      "4\n",
      "\n",
      "\n",
      "number_of_doors\n",
      "[ 2.  4.  3. nan]\n",
      "3\n",
      "\n",
      "\n",
      "market_category\n",
      "['factory_tuner,luxury,high-performance' 'luxury,performance'\n",
      " 'luxury,high-performance' 'luxury' 'performance']\n",
      "71\n",
      "\n",
      "\n",
      "vehicle_size\n",
      "['compact' 'midsize' 'large']\n",
      "3\n",
      "\n",
      "\n",
      "vehicle_style\n",
      "['coupe' 'convertible' 'sedan' 'wagon' '4dr_hatchback']\n",
      "16\n",
      "\n",
      "\n",
      "highway_mpg\n",
      "[26 28 27 25 24]\n",
      "59\n",
      "\n",
      "\n",
      "city_mpg\n",
      "[19 20 18 17 16]\n",
      "69\n",
      "\n",
      "\n",
      "popularity\n",
      "[3916 3105  819  617 1013]\n",
      "48\n",
      "\n",
      "\n",
      "msrp\n",
      "[46135 40650 36350 29450 34500]\n",
      "6049\n",
      "\n",
      "\n"
     ]
    }
   ],
   "source": [
    "for col in df.columns:\n",
    "    print(col)\n",
    "    print(df[col].unique()[:5])\n",
    "    print(df[col].nunique())\n",
    "    print('\\n')"
   ]
  },
  {
   "cell_type": "markdown",
   "metadata": {},
   "source": [
    "### Distribution of price"
   ]
  },
  {
   "cell_type": "code",
   "execution_count": 38,
   "metadata": {
    "execution": {
     "iopub.execute_input": "2021-09-17T08:05:45.990233Z",
     "iopub.status.busy": "2021-09-17T08:05:45.989985Z",
     "iopub.status.idle": "2021-09-17T08:05:46.443189Z",
     "shell.execute_reply": "2021-09-17T08:05:46.441865Z",
     "shell.execute_reply.started": "2021-09-17T08:05:45.990204Z"
    }
   },
   "outputs": [
    {
     "data": {
      "image/png": "[encoded data removed]",
      "text/plain": [
       "<Figure size 432x288 with 1 Axes>"
      ]
     },
     "metadata": {
      "needs_background": "light"
     },
     "output_type": "display_data"
    }
   ],
   "source": [
    "sns.histplot(df['msrp'], bins = 50);"
   ]
  },
  {
   "cell_type": "markdown",
   "metadata": {},
   "source": [
    "### Distribution of price with msrp less than 100000"
   ]
  },
  {
   "cell_type": "code",
   "execution_count": 39,
   "metadata": {
    "execution": {
     "iopub.execute_input": "2021-09-17T08:05:46.446004Z",
     "iopub.status.busy": "2021-09-17T08:05:46.445609Z",
     "iopub.status.idle": "2021-09-17T08:05:46.937402Z",
     "shell.execute_reply": "2021-09-17T08:05:46.935855Z",
     "shell.execute_reply.started": "2021-09-17T08:05:46.445959Z"
    }
   },
   "outputs": [
    {
     "data": {
      "image/png": "[encoded data removed]",
      "text/plain": [
       "<Figure size 432x288 with 1 Axes>"
      ]
     },
     "metadata": {
      "needs_background": "light"
     },
     "output_type": "display_data"
    }
   ],
   "source": [
    "sns.histplot(df['msrp'][df['msrp'] < 100000], bins = 50);"
   ]
  },
  {
   "cell_type": "markdown",
   "metadata": {},
   "source": [
    "### Log(msrp +1)"
   ]
  },
  {
   "cell_type": "code",
   "execution_count": 40,
   "metadata": {
    "execution": {
     "iopub.execute_input": "2021-09-17T08:05:46.939747Z",
     "iopub.status.busy": "2021-09-17T08:05:46.939381Z",
     "iopub.status.idle": "2021-09-17T08:05:47.400321Z",
     "shell.execute_reply": "2021-09-17T08:05:47.398817Z",
     "shell.execute_reply.started": "2021-09-17T08:05:46.939696Z"
    }
   },
   "outputs": [
    {
     "data": {
      "image/png": "[encoded data removed]",
      "text/plain": [
       "<Figure size 432x288 with 1 Axes>"
      ]
     },
     "metadata": {
      "needs_background": "light"
     },
     "output_type": "display_data"
    }
   ],
   "source": [
    "price_logs = np.log1p(df['msrp'])\n",
    "sns.histplot(price_logs, bins = 50);"
   ]
  },
  {
   "cell_type": "markdown",
   "metadata": {},
   "source": [
    "### Missing Values"
   ]
  },
  {
   "cell_type": "code",
   "execution_count": 41,
   "metadata": {
    "execution": {
     "iopub.execute_input": "2021-09-17T08:05:47.404972Z",
     "iopub.status.busy": "2021-09-17T08:05:47.404663Z",
     "iopub.status.idle": "2021-09-17T08:05:47.992317Z",
     "shell.execute_reply": "2021-09-17T08:05:47.991464Z",
     "shell.execute_reply.started": "2021-09-17T08:05:47.404942Z"
    }
   },
   "outputs": [
    {
     "name": "stdout",
     "output_type": "stream",
     "text": [
      "make                    0\n",
      "model                   0\n",
      "year                    0\n",
      "engine_fuel_type        3\n",
      "engine_hp              69\n",
      "engine_cylinders       30\n",
      "transmission_type       0\n",
      "driven_wheels           0\n",
      "number_of_doors         6\n",
      "market_category      3742\n",
      "vehicle_size            0\n",
      "vehicle_style           0\n",
      "highway_mpg             0\n",
      "city_mpg                0\n",
      "popularity              0\n",
      "msrp                    0\n",
      "dtype: int64\n"
     ]
    },
    {
     "data": {
      "text/plain": [
       "<AxesSubplot:>"
      ]
     },
     "execution_count": 41,
     "metadata": {},
     "output_type": "execute_result"
    },
    {
     "data": {
      "image/png": "[encoded data removed]",
      "text/plain": [
       "<Figure size 432x288 with 1 Axes>"
      ]
     },
     "metadata": {
      "needs_background": "light"
     },
     "output_type": "display_data"
    }
   ],
   "source": [
    "print(df.isnull().sum())\n",
    "df.isnull().sum().plot(kind = 'bar')"
   ]
  },
  {
   "cell_type": "markdown",
   "metadata": {},
   "source": [
    "### Validation Framework: Creating Train Validation and Test Split Manually"
   ]
  },
  {
   "cell_type": "code",
   "execution_count": 42,
   "metadata": {
    "execution": {
     "iopub.execute_input": "2021-09-17T08:05:47.993820Z",
     "iopub.status.busy": "2021-09-17T08:05:47.993583Z",
     "iopub.status.idle": "2021-09-17T08:05:48.030809Z",
     "shell.execute_reply": "2021-09-17T08:05:48.029770Z",
     "shell.execute_reply.started": "2021-09-17T08:05:47.993793Z"
    }
   },
   "outputs": [
    {
     "data": {
      "text/plain": [
       "(7150, 2382, 2382)"
      ]
     },
     "execution_count": 42,
     "metadata": {},
     "output_type": "execute_result"
    }
   ],
   "source": [
    "\n",
    "n  = len(df)    \n",
    "\n",
    "n_val = int(n * 0.2)  # Creating Validation Set\n",
    "n_test = int(n * 0.2) # Creating test set\n",
    "n_train = n - n_val - n_test\n",
    "\n",
    "\n",
    "idx = np.arange(n)\n",
    "np.random.seed(2)\n",
    "np.random.shuffle(idx)\n",
    "\n",
    "\n",
    "\n",
    "df_train = df.iloc[idx[:n_train]]\n",
    "df_val = df.iloc[idx[n_train:n_train+n_val]]\n",
    "df_test = df.iloc[idx[n_train+n_val:]]\n",
    "\n",
    "\n",
    "\n",
    "df_train = df_train.reset_index(drop = True)\n",
    "df_val = df_val.reset_index(drop = True)\n",
    "df_test = df_test.reset_index(drop = True)\n",
    "\n",
    "\n",
    "\n",
    "\n",
    "y_train = np.log1p(df_train['msrp'].values)\n",
    "y_val = np.log1p(df_val['msrp'].values)\n",
    "y_test = np.log1p(df_test['msrp'].values)\n",
    "\n",
    "del df_train['msrp']\n",
    "del df_val['msrp']\n",
    "del df_test['msrp']\n",
    "\n",
    "\n",
    "len(df_train), len(df_val), len(df_test)"
   ]
  },
  {
   "cell_type": "markdown",
   "metadata": {},
   "source": [
    "## Linear Regression"
   ]
  },
  {
   "cell_type": "code",
   "execution_count": 43,
   "metadata": {
    "execution": {
     "iopub.execute_input": "2021-09-17T08:05:48.033266Z",
     "iopub.status.busy": "2021-09-17T08:05:48.032910Z",
     "iopub.status.idle": "2021-09-17T08:05:48.046003Z",
     "shell.execute_reply": "2021-09-17T08:05:48.044695Z",
     "shell.execute_reply.started": "2021-09-17T08:05:48.033218Z"
    }
   },
   "outputs": [
    {
     "data": {
      "text/plain": [
       "550"
      ]
     },
     "execution_count": 43,
     "metadata": {},
     "output_type": "execute_result"
    }
   ],
   "source": [
    "\n",
    "xi = [453, 11, 86] \n",
    "\n",
    "\n",
    "w0 = 0\n",
    "\n",
    "w =  [1, 1, 1]\n",
    "\n",
    "\"\"\"\n",
    "Creating Linear Regression Function\n",
    "\"\"\"\n",
    "def linear_regression(xi):\n",
    "    n =len(xi)                # Number of features used\n",
    "    \n",
    "    pred = w0                 # Initial / Base prediction\n",
    "    \n",
    "    for j in range(n):\n",
    "        pred += w[j]*xi[j]     # Formula = w0 +sigma[0:n-1]{w[j]*xi[j]}\n",
    "    \n",
    "    return pred\n",
    "\n",
    "linear_regression(xi)"
   ]
  },
  {
   "cell_type": "code",
   "execution_count": 44,
   "metadata": {
    "execution": {
     "iopub.execute_input": "2021-09-17T08:05:48.048741Z",
     "iopub.status.busy": "2021-09-17T08:05:48.048404Z",
     "iopub.status.idle": "2021-09-17T08:05:48.066618Z",
     "shell.execute_reply": "2021-09-17T08:05:48.065773Z",
     "shell.execute_reply.started": "2021-09-17T08:05:48.048707Z"
    }
   },
   "outputs": [
    {
     "data": {
      "text/plain": [
       "12.312"
      ]
     },
     "execution_count": 44,
     "metadata": {},
     "output_type": "execute_result"
    }
   ],
   "source": [
    "\n",
    "w0 = 7.17\n",
    "\n",
    "w =  [0.01, 0.04, 0.002]\n",
    "\n",
    "linear_regression(xi)"
   ]
  },
  {
   "cell_type": "code",
   "execution_count": 45,
   "metadata": {
    "execution": {
     "iopub.execute_input": "2021-09-17T08:05:48.068935Z",
     "iopub.status.busy": "2021-09-17T08:05:48.068132Z",
     "iopub.status.idle": "2021-09-17T08:05:48.086525Z",
     "shell.execute_reply": "2021-09-17T08:05:48.085507Z",
     "shell.execute_reply.started": "2021-09-17T08:05:48.068896Z"
    }
   },
   "outputs": [
    {
     "name": "stdout",
     "output_type": "stream",
     "text": [
      "predicted prices:  222347.2221101062\n"
     ]
    }
   ],
   "source": [
    "\n",
    "print(\"predicted prices: \", np.expm1(12.312))"
   ]
  },
  {
   "cell_type": "markdown",
   "metadata": {},
   "source": [
    "# Linear Regression Vector Form "
   ]
  },
  {
   "cell_type": "markdown",
   "metadata": {},
   "source": [
    "#  Generalized Linear Regression"
   ]
  },
  {
   "cell_type": "code",
   "execution_count": 46,
   "metadata": {
    "execution": {
     "iopub.execute_input": "2021-09-17T08:05:48.088674Z",
     "iopub.status.busy": "2021-09-17T08:05:48.087766Z",
     "iopub.status.idle": "2021-09-17T08:05:48.105268Z",
     "shell.execute_reply": "2021-09-17T08:05:48.104623Z",
     "shell.execute_reply.started": "2021-09-17T08:05:48.088620Z"
    }
   },
   "outputs": [
    {
     "data": {
      "text/plain": [
       "12.312"
      ]
     },
     "execution_count": 46,
     "metadata": {},
     "output_type": "execute_result"
    }
   ],
   "source": [
    "def dot(xi,w):\n",
    "    n = len(xi)\n",
    "    \n",
    "    res = 0.0\n",
    "    \n",
    "    for j in range(n):\n",
    "        res += xi[j]*w[j]\n",
    "    return res\n",
    "\n",
    "\"\"\"\n",
    "Improvising linear_regression\n",
    "\"\"\"\n",
    "def linear_regression(xi):\n",
    "    return w0 + dot(xi,w)\n",
    "\n",
    "\n",
    "w_new = [w0] + w\n",
    "def linear_regression(xi):\n",
    "    xi = [1] + xi\n",
    "    return dot(xi,w_new)\n",
    "\n",
    "\n",
    "linear_regression(xi)"
   ]
  },
  {
   "cell_type": "markdown",
   "metadata": {},
   "source": [
    "### Linear Regression with Multiple Variables"
   ]
  },
  {
   "cell_type": "code",
   "execution_count": 86,
   "metadata": {
    "execution": {
     "iopub.execute_input": "2021-09-17T08:05:48.107153Z",
     "iopub.status.busy": "2021-09-17T08:05:48.106907Z",
     "iopub.status.idle": "2021-09-17T08:05:48.124552Z",
     "shell.execute_reply": "2021-09-17T08:05:48.123543Z",
     "shell.execute_reply.started": "2021-09-17T08:05:48.107126Z"
    }
   },
   "outputs": [
    {
     "data": {
      "text/plain": [
       "array([12.38 , 13.552, 12.312])"
      ]
     },
     "execution_count": 86,
     "metadata": {},
     "output_type": "execute_result"
    }
   ],
   "source": [
    "\n",
    "\n",
    "w0 = 7.17\n",
    "\n",
    "w =  [0.01, 0.04, 0.002]\n",
    "\n",
    "\n",
    "w_new = [w0] + w\n",
    "\n",
    "x1 = [1, 148, 24, 1385]\n",
    "x2 = [1, 132, 25, 2031]\n",
    "x10 = [1, 453, 11, 86]\n",
    "\n",
    "\n",
    "X= [x1, x2, x10]\n",
    "X = np.array(X)\n",
    "\n",
    "def linear_regression(X):\n",
    "    return X.dot(w_new)\n",
    "\n",
    "\n",
    "linear_regression(X)"
   ]
  },
  {
   "cell_type": "markdown",
   "metadata": {},
   "source": [
    "## Training Linear Regression - Normal Equationraining Linear Regression - Normal Equation"
   ]
  },
  {
   "cell_type": "code",
   "execution_count": 48,
   "metadata": {
    "execution": {
     "iopub.execute_input": "2021-09-17T08:05:48.125990Z",
     "iopub.status.busy": "2021-09-17T08:05:48.125757Z",
     "iopub.status.idle": "2021-09-17T08:05:48.138202Z",
     "shell.execute_reply": "2021-09-17T08:05:48.137548Z",
     "shell.execute_reply.started": "2021-09-17T08:05:48.125964Z"
    }
   },
   "outputs": [],
   "source": [
    "X = [\n",
    "    [148, 24, 1385],\n",
    "    [132, 25, 2031],\n",
    "    [453, 11, 86],\n",
    "    [158, 24, 185],\n",
    "    [172, 25, 201],\n",
    "    [413, 11, 86],\n",
    "    [38, 54, 185],\n",
    "    [142, 25, 431],\n",
    "    [453, 31, 86]\n",
    "]\n",
    " \n",
    "\n",
    "X = np.array(X)\n",
    "\n",
    "\n",
    "\n",
    "y = [10000, 20000, 15000, 20050, 10000, 20000, 15000, 25000, 120]\n",
    "\n"
   ]
  },
  {
   "cell_type": "code",
   "execution_count": 49,
   "metadata": {
    "execution": {
     "iopub.execute_input": "2021-09-17T08:05:48.139948Z",
     "iopub.status.busy": "2021-09-17T08:05:48.139238Z",
     "iopub.status.idle": "2021-09-17T08:05:48.158873Z",
     "shell.execute_reply": "2021-09-17T08:05:48.157823Z",
     "shell.execute_reply.started": "2021-09-17T08:05:48.139911Z"
    }
   },
   "outputs": [
    {
     "data": {
      "text/plain": [
       "(18.795976557583153, array([260.65006106,   5.07672498]))"
      ]
     },
     "execution_count": 49,
     "metadata": {},
     "output_type": "execute_result"
    }
   ],
   "source": [
    "XTX = X.T.dot(X)\n",
    "\n",
    "\"\"\"inverse of Gram Matrix\"\"\"\n",
    "XTX_inv = np.linalg.inv(XTX)\n",
    "\n",
    "# XTX.dot(XTX_inv).round(1)\n",
    "XTX.dot(XTX_inv)\n",
    "\n",
    "\n",
    "w_full = XTX_inv.dot(X.T).dot(y)\n",
    "\n",
    "\n",
    "w0 = w_full[0]\n",
    "w = w_full[1:]\n",
    "\n",
    "w0, w"
   ]
  },
  {
   "cell_type": "code",
   "execution_count": 50,
   "metadata": {
    "execution": {
     "iopub.execute_input": "2021-09-17T08:05:48.161790Z",
     "iopub.status.busy": "2021-09-17T08:05:48.160642Z",
     "iopub.status.idle": "2021-09-17T08:05:48.177019Z",
     "shell.execute_reply": "2021-09-17T08:05:48.176079Z",
     "shell.execute_reply.started": "2021-09-17T08:05:48.161724Z"
    }
   },
   "outputs": [],
   "source": [
    "\"\"\"Creating a function for Training Linear Regression Model\"\"\"\n",
    "def train_linear_regression(X,y):\n",
    "    \"\"\"\n",
    "    Including a biased term\n",
    "    \"\"\"\n",
    "    ones = np.ones(X.shape[0])\n",
    "    X = np.column_stack([ones, X])\n",
    "    \n",
    "    \"\"\"\n",
    "    Gram Matrix\n",
    "    \"\"\"\n",
    "    XTX = X.T.dot(X)\n",
    "    \n",
    "    \"\"\"inverse of Gram Matrix\"\"\"\n",
    "    XTX_inv = np.linalg.inv(XTX)\n",
    "    w_full = XTX_inv.dot(X.T).dot(y)\n",
    "    \n",
    "    return w_full[0], w_full[1:]   \n",
    "\n",
    "\n"
   ]
  },
  {
   "cell_type": "markdown",
   "metadata": {},
   "source": [
    "### Car Price Baseline Model"
   ]
  },
  {
   "cell_type": "code",
   "execution_count": 51,
   "metadata": {
    "execution": {
     "iopub.execute_input": "2021-09-17T08:05:48.179784Z",
     "iopub.status.busy": "2021-09-17T08:05:48.178753Z",
     "iopub.status.idle": "2021-09-17T08:05:48.208678Z",
     "shell.execute_reply": "2021-09-17T08:05:48.207697Z",
     "shell.execute_reply.started": "2021-09-17T08:05:48.179732Z"
    }
   },
   "outputs": [
    {
     "data": {
      "text/plain": [
       "(nan, array([nan, nan, nan, nan, nan]))"
      ]
     },
     "execution_count": 51,
     "metadata": {},
     "output_type": "execute_result"
    }
   ],
   "source": [
    "\n",
    "df_train.dtypes\n",
    "\n",
    "\n",
    "base = ['engine_hp','engine_cylinders','highway_mpg', 'city_mpg', 'popularity']\n",
    "\n",
    "\n",
    "X_train = df_train[base].values\n",
    "\n",
    "train_linear_regression(X_train,y_train)"
   ]
  },
  {
   "cell_type": "code",
   "execution_count": 52,
   "metadata": {
    "execution": {
     "iopub.execute_input": "2021-09-17T08:05:48.210847Z",
     "iopub.status.busy": "2021-09-17T08:05:48.210051Z",
     "iopub.status.idle": "2021-09-17T08:05:48.225655Z",
     "shell.execute_reply": "2021-09-17T08:05:48.224376Z",
     "shell.execute_reply.started": "2021-09-17T08:05:48.210728Z"
    }
   },
   "outputs": [
    {
     "data": {
      "text/plain": [
       "engine_hp           40\n",
       "engine_cylinders    14\n",
       "highway_mpg          0\n",
       "city_mpg             0\n",
       "popularity           0\n",
       "dtype: int64"
      ]
     },
     "execution_count": 52,
     "metadata": {},
     "output_type": "execute_result"
    }
   ],
   "source": [
    "\"\"\"\n",
    "checking missing values in our subset\n",
    "\"\"\"\n",
    "df_train[base].isnull().sum()"
   ]
  },
  {
   "cell_type": "code",
   "execution_count": 53,
   "metadata": {
    "execution": {
     "iopub.execute_input": "2021-09-17T08:05:48.228283Z",
     "iopub.status.busy": "2021-09-17T08:05:48.227389Z",
     "iopub.status.idle": "2021-09-17T08:05:48.236183Z",
     "shell.execute_reply": "2021-09-17T08:05:48.234966Z",
     "shell.execute_reply.started": "2021-09-17T08:05:48.228237Z"
    }
   },
   "outputs": [],
   "source": [
    "X_train = df_train[base].fillna(0).values"
   ]
  },
  {
   "cell_type": "code",
   "execution_count": 54,
   "metadata": {
    "execution": {
     "iopub.execute_input": "2021-09-17T08:05:48.238925Z",
     "iopub.status.busy": "2021-09-17T08:05:48.238316Z",
     "iopub.status.idle": "2021-09-17T08:05:48.950102Z",
     "shell.execute_reply": "2021-09-17T08:05:48.949078Z",
     "shell.execute_reply.started": "2021-09-17T08:05:48.238872Z"
    }
   },
   "outputs": [
    {
     "data": {
      "image/png": "[encoded data removed]",
      "text/plain": [
       "<Figure size 432x288 with 1 Axes>"
      ]
     },
     "metadata": {
      "needs_background": "light"
     },
     "output_type": "display_data"
    }
   ],
   "source": [
    "w0, w = train_linear_regression(X_train,y_train)\n",
    "\n",
    "\n",
    "y_pred =  w0 + X_train.dot(w)\n",
    "\n",
    "\n",
    "sns.histplot(y_pred, color = 'red', alpha = 0.5, bins = 50)\n",
    "sns.histplot(y_train, color = 'blue', alpha = 0.5, bins = 50);"
   ]
  },
  {
   "cell_type": "markdown",
   "metadata": {},
   "source": [
    "### Root Mean Squared Error (RMSE)"
   ]
  },
  {
   "cell_type": "code",
   "execution_count": 55,
   "metadata": {
    "execution": {
     "iopub.execute_input": "2021-09-17T08:05:48.952407Z",
     "iopub.status.busy": "2021-09-17T08:05:48.951932Z",
     "iopub.status.idle": "2021-09-17T08:05:48.956916Z",
     "shell.execute_reply": "2021-09-17T08:05:48.955939Z",
     "shell.execute_reply.started": "2021-09-17T08:05:48.952373Z"
    }
   },
   "outputs": [],
   "source": [
    "def rmse(y,y_pred):\n",
    "    error  = y- y_pred\n",
    "    squared_error = error ** 2\n",
    "    mse = squared_error.mean()\n",
    "    return np.sqrt(mse)  "
   ]
  },
  {
   "cell_type": "code",
   "execution_count": 56,
   "metadata": {
    "execution": {
     "iopub.execute_input": "2021-09-17T08:05:48.959400Z",
     "iopub.status.busy": "2021-09-17T08:05:48.958831Z",
     "iopub.status.idle": "2021-09-17T08:05:48.975993Z",
     "shell.execute_reply": "2021-09-17T08:05:48.974716Z",
     "shell.execute_reply.started": "2021-09-17T08:05:48.959257Z"
    }
   },
   "outputs": [
    {
     "data": {
      "text/plain": [
       "0.7554192603920132"
      ]
     },
     "execution_count": 56,
     "metadata": {},
     "output_type": "execute_result"
    }
   ],
   "source": [
    "rmse(y_train,y_pred)"
   ]
  },
  {
   "cell_type": "markdown",
   "metadata": {},
   "source": [
    "###  Validating the Model using RMSE"
   ]
  },
  {
   "cell_type": "code",
   "execution_count": 57,
   "metadata": {
    "execution": {
     "iopub.execute_input": "2021-09-17T08:05:48.978258Z",
     "iopub.status.busy": "2021-09-17T08:05:48.977934Z",
     "iopub.status.idle": "2021-09-17T08:05:48.987147Z",
     "shell.execute_reply": "2021-09-17T08:05:48.986000Z",
     "shell.execute_reply.started": "2021-09-17T08:05:48.978223Z"
    }
   },
   "outputs": [],
   "source": [
    "\"\"\"\n",
    "Creating subset of only Numerical Columns\n",
    "\"\"\"\n",
    "base = ['engine_hp','engine_cylinders','highway_mpg', 'city_mpg', 'popularity']\n",
    "\n",
    "def prepare_X(df):\n",
    "    df_num = df[base]\n",
    "    df_num = df_num.fillna(0)\n",
    "    X = df_num.values\n",
    "    return X"
   ]
  },
  {
   "cell_type": "code",
   "execution_count": 58,
   "metadata": {
    "execution": {
     "iopub.execute_input": "2021-09-17T08:05:48.989608Z",
     "iopub.status.busy": "2021-09-17T08:05:48.989149Z",
     "iopub.status.idle": "2021-09-17T08:05:49.018486Z",
     "shell.execute_reply": "2021-09-17T08:05:49.016799Z",
     "shell.execute_reply.started": "2021-09-17T08:05:48.989558Z"
    }
   },
   "outputs": [
    {
     "data": {
      "text/plain": [
       "0.7616530991301594"
      ]
     },
     "execution_count": 58,
     "metadata": {},
     "output_type": "execute_result"
    }
   ],
   "source": [
    "X_train = prepare_X(df_train)                            # Preparing Training set\n",
    "\n",
    "\n",
    "w0,w = w0, w = train_linear_regression(X_train,y_train)  # Building the model on Train set\n",
    "\n",
    "\n",
    "X_val = prepare_X(df_val)                                 # Preparing Validation Set\n",
    "y_pred = w0 + X_val.dot(w)                                # Prediction on Validation Set\n",
    "\n",
    "\n",
    "rmse(y_val, y_pred)                                       # Calculating RMSE for Validation Set "
   ]
  },
  {
   "cell_type": "markdown",
   "metadata": {},
   "source": [
    "###  Feature Engineering"
   ]
  },
  {
   "cell_type": "code",
   "execution_count": 59,
   "metadata": {
    "execution": {
     "iopub.execute_input": "2021-09-17T08:05:49.025049Z",
     "iopub.status.busy": "2021-09-17T08:05:49.024585Z",
     "iopub.status.idle": "2021-09-17T08:05:49.033948Z",
     "shell.execute_reply": "2021-09-17T08:05:49.032612Z",
     "shell.execute_reply.started": "2021-09-17T08:05:49.024971Z"
    }
   },
   "outputs": [],
   "source": [
    "\"\"\"\n",
    "Modifying prepare_S function to include Feature engineering step\n",
    "\"\"\"\n",
    "def prepare_X(df):\n",
    "    df = df.copy()\n",
    "    df['age'] = max(df['year']) - df['year']\n",
    "    features = base + ['age']\n",
    "    df_num = df[features]\n",
    "    df_num = df_num.fillna(0)\n",
    "    X = df_num.values\n",
    "    return X"
   ]
  },
  {
   "cell_type": "code",
   "execution_count": 60,
   "metadata": {
    "execution": {
     "iopub.execute_input": "2021-09-17T08:05:49.036978Z",
     "iopub.status.busy": "2021-09-17T08:05:49.036276Z",
     "iopub.status.idle": "2021-09-17T08:05:49.058142Z",
     "shell.execute_reply": "2021-09-17T08:05:49.056857Z",
     "shell.execute_reply.started": "2021-09-17T08:05:49.036914Z"
    }
   },
   "outputs": [],
   "source": [
    "X_train = prepare_X(df_train)"
   ]
  },
  {
   "cell_type": "code",
   "execution_count": 61,
   "metadata": {
    "execution": {
     "iopub.execute_input": "2021-09-17T08:05:49.061048Z",
     "iopub.status.busy": "2021-09-17T08:05:49.060354Z",
     "iopub.status.idle": "2021-09-17T08:05:49.092608Z",
     "shell.execute_reply": "2021-09-17T08:05:49.091067Z",
     "shell.execute_reply.started": "2021-09-17T08:05:49.060923Z"
    }
   },
   "outputs": [
    {
     "ename": "IndentationError",
     "evalue": "unexpected indent (<ipython-input-61-b27af87081a0>, line 5)",
     "output_type": "error",
     "traceback": [
      "\u001b[1;36m  File \u001b[1;32m\"<ipython-input-61-b27af87081a0>\"\u001b[1;36m, line \u001b[1;32m5\u001b[0m\n\u001b[1;33m    = prepare_X(df_val)                                 # Preparing Validation Set\u001b[0m\n\u001b[1;37m    ^\u001b[0m\n\u001b[1;31mIndentationError\u001b[0m\u001b[1;31m:\u001b[0m unexpected indent\n"
     ]
    }
   ],
   "source": [
    "X_train = prepare_X(df_train)                            # Preparing Training set\n",
    "\n",
    "w0,w = w0, w = train_linear_regression(X_train,y_train)  # Building the model on Train set\n",
    "\n",
    " = prepare_X(df_val)                                 # Preparing Validation Set\n",
    "y_pred = w0 + X_val.dot(w)                                # Prediction on Validation Set\n",
    "\n",
    "rmse(y_val, y_pred)                                       # Calculating RMSE for Validation Set "
   ]
  },
  {
   "cell_type": "code",
   "execution_count": 62,
   "metadata": {
    "execution": {
     "iopub.execute_input": "2021-09-17T08:05:49.095192Z",
     "iopub.status.busy": "2021-09-17T08:05:49.094596Z",
     "iopub.status.idle": "2021-09-17T08:05:49.673307Z",
     "shell.execute_reply": "2021-09-17T08:05:49.672351Z",
     "shell.execute_reply.started": "2021-09-17T08:05:49.095138Z"
    }
   },
   "outputs": [
    {
     "data": {
      "image/png": "[encoded data removed]",
      "text/plain": [
       "<Figure size 432x288 with 1 Axes>"
      ]
     },
     "metadata": {
      "needs_background": "light"
     },
     "output_type": "display_data"
    }
   ],
   "source": [
    "\n",
    "\"\"\"Visualizing the Predictions\"\"\"\n",
    "sns.histplot(y_pred, color = 'red', alpha = 0.5, bins = 50)\n",
    "sns.histplot(y_val, color = 'blue', alpha = 0.5, bins = 50);"
   ]
  },
  {
   "cell_type": "markdown",
   "metadata": {},
   "source": [
    "### Categorical Variables"
   ]
  },
  {
   "cell_type": "code",
   "execution_count": 63,
   "metadata": {
    "execution": {
     "iopub.execute_input": "2021-09-17T08:05:49.675223Z",
     "iopub.status.busy": "2021-09-17T08:05:49.674835Z",
     "iopub.status.idle": "2021-09-17T08:05:49.690292Z",
     "shell.execute_reply": "2021-09-17T08:05:49.688922Z",
     "shell.execute_reply.started": "2021-09-17T08:05:49.675176Z"
    }
   },
   "outputs": [
    {
     "data": {
      "text/plain": [
       "['chevrolet', 'ford', 'volkswagen', 'toyota', 'dodge']"
      ]
     },
     "execution_count": 63,
     "metadata": {},
     "output_type": "execute_result"
    }
   ],
   "source": [
    "\"\"\"Top 5 makers\"\"\"\n",
    "makes = list(df['make'].value_counts().head().index)\n",
    "makes"
   ]
  },
  {
   "cell_type": "code",
   "execution_count": 64,
   "metadata": {
    "execution": {
     "iopub.execute_input": "2021-09-17T08:05:49.691798Z",
     "iopub.status.busy": "2021-09-17T08:05:49.691551Z",
     "iopub.status.idle": "2021-09-17T08:05:49.702259Z",
     "shell.execute_reply": "2021-09-17T08:05:49.700906Z",
     "shell.execute_reply.started": "2021-09-17T08:05:49.691770Z"
    }
   },
   "outputs": [],
   "source": [
    "\"\"\"\n",
    "Modifying prepare_S function for Creating new columns for number of doors\n",
    "Making columns for top 5 makes of the cars\n",
    "\"\"\"\n",
    "def prepare_X(df):\n",
    "    df = df.copy()\n",
    "    features = base.copy()\n",
    "     \n",
    "    df['age'] = max(df['year']) - df['year']    \n",
    "    features.append('age')\n",
    "    \n",
    "\n",
    "    for v in [2,3,4]:\n",
    "        df['num_doors_%s' %v] = (df['number_of_doors'] == v).astype('int') \n",
    "        features.append('num_doors_%s' %v)\n",
    "      \n",
    "    for m in makes:\n",
    "        df['make_%s' %m] = (df['make'] == m).astype('int') \n",
    "        features.append('make_%s' %m)\n",
    "        \n",
    "    df_num = df[features]\n",
    "    df_num = df_num.fillna(0)\n",
    "    X = df_num.values\n",
    "    return X"
   ]
  },
  {
   "cell_type": "code",
   "execution_count": 65,
   "metadata": {
    "execution": {
     "iopub.execute_input": "2021-09-17T08:05:49.703962Z",
     "iopub.status.busy": "2021-09-17T08:05:49.703710Z",
     "iopub.status.idle": "2021-09-17T08:05:49.777819Z",
     "shell.execute_reply": "2021-09-17T08:05:49.776643Z",
     "shell.execute_reply.started": "2021-09-17T08:05:49.703934Z"
    }
   },
   "outputs": [
    {
     "data": {
      "text/plain": [
       "0.5076038849555671"
      ]
     },
     "execution_count": 65,
     "metadata": {},
     "output_type": "execute_result"
    }
   ],
   "source": [
    "X_train = prepare_X(df_train)                            # Preparing Training set\n",
    "\n",
    "\n",
    "w0,w = train_linear_regression(X_train,y_train)  # Building the model on Train set\n",
    "\n",
    "\n",
    "X_val = prepare_X(df_val)                                 # Preparing Validation Set\n",
    "y_pred = w0 + X_val.dot(w)                                # Prediction on Validation Set\n",
    "\n",
    "\n",
    "rmse(y_val, y_pred)                                       # Calculating RMSE for Validation Set "
   ]
  },
  {
   "cell_type": "code",
   "execution_count": 66,
   "metadata": {
    "execution": {
     "iopub.execute_input": "2021-09-17T08:05:49.780089Z",
     "iopub.status.busy": "2021-09-17T08:05:49.779670Z",
     "iopub.status.idle": "2021-09-17T08:05:49.786898Z",
     "shell.execute_reply": "2021-09-17T08:05:49.785777Z",
     "shell.execute_reply.started": "2021-09-17T08:05:49.780042Z"
    }
   },
   "outputs": [],
   "source": [
    "categorical_variables = ['make','engine_fuel_type', 'transmission_type' , 'driven_wheels', 'market_category', \n",
    "'vehicle_size', 'vehicle_style' ]           "
   ]
  },
  {
   "cell_type": "code",
   "execution_count": 67,
   "metadata": {
    "execution": {
     "iopub.execute_input": "2021-09-17T08:05:49.790584Z",
     "iopub.status.busy": "2021-09-17T08:05:49.789661Z",
     "iopub.status.idle": "2021-09-17T08:05:49.842589Z",
     "shell.execute_reply": "2021-09-17T08:05:49.841542Z",
     "shell.execute_reply.started": "2021-09-17T08:05:49.790520Z"
    }
   },
   "outputs": [],
   "source": [
    "categories = {}\n",
    "\n",
    "for c in categorical_variables:\n",
    "    categories[c] = list(df[c].value_counts().head().index)\n"
   ]
  },
  {
   "cell_type": "code",
   "execution_count": 68,
   "metadata": {
    "execution": {
     "iopub.execute_input": "2021-09-17T08:05:49.845476Z",
     "iopub.status.busy": "2021-09-17T08:05:49.844624Z",
     "iopub.status.idle": "2021-09-17T08:05:49.853826Z",
     "shell.execute_reply": "2021-09-17T08:05:49.852606Z",
     "shell.execute_reply.started": "2021-09-17T08:05:49.845406Z"
    }
   },
   "outputs": [
    {
     "data": {
      "text/plain": [
       "dict_items([('make', ['chevrolet', 'ford', 'volkswagen', 'toyota', 'dodge']), ('engine_fuel_type', ['regular_unleaded', 'premium_unleaded_(required)', 'premium_unleaded_(recommended)', 'flex-fuel_(unleaded/e85)', 'diesel']), ('transmission_type', ['automatic', 'manual', 'automated_manual', 'direct_drive', 'unknown']), ('driven_wheels', ['front_wheel_drive', 'rear_wheel_drive', 'all_wheel_drive', 'four_wheel_drive']), ('market_category', ['crossover', 'flex_fuel', 'luxury', 'luxury,performance', 'hatchback']), ('vehicle_size', ['compact', 'midsize', 'large']), ('vehicle_style', ['sedan', '4dr_suv', 'coupe', 'convertible', '4dr_hatchback'])])"
      ]
     },
     "execution_count": 68,
     "metadata": {},
     "output_type": "execute_result"
    }
   ],
   "source": [
    "categories.items()"
   ]
  },
  {
   "cell_type": "code",
   "execution_count": 69,
   "metadata": {
    "execution": {
     "iopub.execute_input": "2021-09-17T08:05:49.856916Z",
     "iopub.status.busy": "2021-09-17T08:05:49.856127Z",
     "iopub.status.idle": "2021-09-17T08:05:49.870846Z",
     "shell.execute_reply": "2021-09-17T08:05:49.869855Z",
     "shell.execute_reply.started": "2021-09-17T08:05:49.856865Z"
    }
   },
   "outputs": [],
   "source": [
    "\n",
    "def prepare_X(df):\n",
    "    df = df.copy()\n",
    "    features = base.copy()\n",
    "     \n",
    "    df['age'] = max(df['year']) - df['year']    \n",
    "    features.append('age')\n",
    "    \n",
    "   \n",
    "    for v in [2,3,4]:\n",
    "        df['num_doors_%s' %v] = (df['number_of_doors'] == v).astype('int') \n",
    "        features.append('num_doors_%s' %v)\n",
    "        \n",
    "  \n",
    "    for c,values in categories.items():\n",
    "        for v in values:\n",
    "            df[\"%s_%s\" %(c,v)] = (df[c] == v).astype('int') \n",
    "            features.append(\"%s_%s\" %(c,v))\n",
    "        \n",
    "    df_num = df[features]\n",
    "    df_num = df_num.fillna(0)\n",
    "    X = df_num.values\n",
    "    return X"
   ]
  },
  {
   "cell_type": "code",
   "execution_count": 70,
   "metadata": {
    "execution": {
     "iopub.execute_input": "2021-09-17T08:05:49.874150Z",
     "iopub.status.busy": "2021-09-17T08:05:49.873351Z",
     "iopub.status.idle": "2021-09-17T08:05:50.099870Z",
     "shell.execute_reply": "2021-09-17T08:05:50.098154Z",
     "shell.execute_reply.started": "2021-09-17T08:05:49.874096Z"
    }
   },
   "outputs": [
    {
     "ename": "ValueError",
     "evalue": "shapes (2382,14) and (41,) not aligned: 14 (dim 1) != 41 (dim 0)",
     "output_type": "error",
     "traceback": [
      "\u001b[1;31m---------------------------------------------------------------------------\u001b[0m",
      "\u001b[1;31mValueError\u001b[0m                                Traceback (most recent call last)",
      "\u001b[1;32m<ipython-input-70-593beeb77d5c>\u001b[0m in \u001b[0;36m<module>\u001b[1;34m\u001b[0m\n\u001b[0;32m      4\u001b[0m \u001b[1;33m\u001b[0m\u001b[0m\n\u001b[0;32m      5\u001b[0m \u001b[0m_val\u001b[0m \u001b[1;33m=\u001b[0m \u001b[0mprepare_X\u001b[0m\u001b[1;33m(\u001b[0m\u001b[0mdf_val\u001b[0m\u001b[1;33m)\u001b[0m                                 \u001b[1;31m# Preparing Validation Set\u001b[0m\u001b[1;33m\u001b[0m\u001b[1;33m\u001b[0m\u001b[0m\n\u001b[1;32m----> 6\u001b[1;33m \u001b[0my_pred\u001b[0m \u001b[1;33m=\u001b[0m \u001b[0mw0\u001b[0m \u001b[1;33m+\u001b[0m \u001b[0mX_val\u001b[0m\u001b[1;33m.\u001b[0m\u001b[0mdot\u001b[0m\u001b[1;33m(\u001b[0m\u001b[0mw\u001b[0m\u001b[1;33m)\u001b[0m                                \u001b[1;31m# Prediction on Validation Set\u001b[0m\u001b[1;33m\u001b[0m\u001b[1;33m\u001b[0m\u001b[0m\n\u001b[0m\u001b[0;32m      7\u001b[0m \u001b[1;33m\u001b[0m\u001b[0m\n\u001b[0;32m      8\u001b[0m \u001b[1;33m\u001b[0m\u001b[0m\n",
      "\u001b[1;31mValueError\u001b[0m: shapes (2382,14) and (41,) not aligned: 14 (dim 1) != 41 (dim 0)"
     ]
    }
   ],
   "source": [
    "\n",
    "X_train = prepare_X(df_train)                            # Preparing Training set\n",
    "\n",
    "w0,w = train_linear_regression(X_train,y_train)  # Building the model on Train set\n",
    "\n",
    "_val = prepare_X(df_val)                                 # Preparing Validation Set\n",
    "y_pred = w0 + X_val.dot(w)                                # Prediction on Validation Set\n",
    "\n",
    "\n",
    "rmse(y_val, y_pred)                                       # Calculating RMSE for Validation Set "
   ]
  },
  {
   "cell_type": "markdown",
   "metadata": {},
   "source": [
    "### Regularization"
   ]
  },
  {
   "cell_type": "code",
   "execution_count": 71,
   "metadata": {
    "execution": {
     "iopub.execute_input": "2021-09-17T08:05:50.101761Z",
     "iopub.status.busy": "2021-09-17T08:05:50.101189Z",
     "iopub.status.idle": "2021-09-17T08:05:50.110827Z",
     "shell.execute_reply": "2021-09-17T08:05:50.109895Z",
     "shell.execute_reply.started": "2021-09-17T08:05:50.101711Z"
    }
   },
   "outputs": [],
   "source": [
    "def train_linear_regression_reg(X, y, r=0.001):\n",
    "    ones = np.ones(X.shape[0])\n",
    "    X = np.column_stack([ones, X])\n",
    "    \n",
    "    XTX = X.T.dot(X)\n",
    "   \n",
    "    XTX = XTX + r * np.eye(XTX.shape[0])\n",
    "    \n",
    "    XTX_inv = np.linalg.inv(XTX)\n",
    "    w_full = XTX_inv.dot(X.T).dot(y)\n",
    "    \n",
    "    return w_full[0], w_full[1:]"
   ]
  },
  {
   "cell_type": "code",
   "execution_count": 72,
   "metadata": {
    "execution": {
     "iopub.execute_input": "2021-09-17T08:17:13.946968Z",
     "iopub.status.busy": "2021-09-17T08:17:13.946218Z",
     "iopub.status.idle": "2021-09-17T08:17:14.123117Z",
     "shell.execute_reply": "2021-09-17T08:17:14.122072Z",
     "shell.execute_reply.started": "2021-09-17T08:17:13.946930Z"
    }
   },
   "outputs": [
    {
     "data": {
      "text/plain": [
       "0.456521990118657"
      ]
     },
     "execution_count": 72,
     "metadata": {},
     "output_type": "execute_result"
    }
   ],
   "source": [
    "X_train = prepare_X(df_train)\n",
    "w0, w = train_linear_regression_reg(X_train, y_train, r=0.01)\n",
    "\n",
    "X_val = prepare_X(df_val)\n",
    "y_pred = w0 + X_val.dot(w)\n",
    "rmse(y_val, y_pred)"
   ]
  },
  {
   "cell_type": "markdown",
   "metadata": {},
   "source": [
    "## Tuning the Model"
   ]
  },
  {
   "cell_type": "code",
   "execution_count": 73,
   "metadata": {
    "execution": {
     "iopub.execute_input": "2021-09-17T08:05:50.381904Z",
     "iopub.status.busy": "2021-09-17T08:05:50.381398Z",
     "iopub.status.idle": "2021-09-17T08:05:52.062695Z",
     "shell.execute_reply": "2021-09-17T08:05:52.061763Z",
     "shell.execute_reply.started": "2021-09-17T08:05:50.381849Z"
    }
   },
   "outputs": [
    {
     "name": "stdout",
     "output_type": "stream",
     "text": [
      "0.0 -4549127492855609.0 52.08765237410741\n",
      "1e-05 3.7204792219042004 0.45651702775634717\n",
      "0.0001 6.254240878313915 0.45651706457624014\n",
      "0.001 6.285613424445728 0.4565175086094597\n",
      "0.1 6.191208642500289 0.4565692763037788\n",
      "1 5.634896668260641 0.45722043179960414\n",
      "10 4.283980108959954 0.4701456932100265\n"
     ]
    }
   ],
   "source": [
    "\"\"\"\n",
    "Training the model for different values of r: regularization term\n",
    "\"\"\"\n",
    "for r in [0.0, 0.00001, 0.0001, 0.001, 0.1, 1, 10]:\n",
    "    X_train = prepare_X(df_train)\n",
    "    w0, w = train_linear_regression_reg(X_train, y_train, r=r)\n",
    "\n",
    "    X_val = prepare_X(df_val)\n",
    "    y_pred = w0 + X_val.dot(w)\n",
    "    score = rmse(y_val, y_pred)\n",
    "    \n",
    "    print(r, w0, score)"
   ]
  },
  {
   "cell_type": "code",
   "execution_count": 74,
   "metadata": {
    "execution": {
     "iopub.execute_input": "2021-09-17T08:05:58.509792Z",
     "iopub.status.busy": "2021-09-17T08:05:58.509514Z",
     "iopub.status.idle": "2021-09-17T08:05:58.723739Z",
     "shell.execute_reply": "2021-09-17T08:05:58.722467Z",
     "shell.execute_reply.started": "2021-09-17T08:05:58.509764Z"
    }
   },
   "outputs": [
    {
     "data": {
      "text/plain": [
       "0.4565175086094597"
      ]
     },
     "execution_count": 74,
     "metadata": {},
     "output_type": "execute_result"
    }
   ],
   "source": [
    "r = 0.001\n",
    "X_train = prepare_X(df_train)\n",
    "w0, w = train_linear_regression_reg(X_train, y_train, r=r)\n",
    "\n",
    "X_val = prepare_X(df_val)\n",
    "y_pred = w0 + X_val.dot(w)\n",
    "score = rmse(y_val, y_pred)\n",
    "score"
   ]
  },
  {
   "cell_type": "markdown",
   "metadata": {},
   "source": [
    "## Using the model"
   ]
  },
  {
   "cell_type": "code",
   "execution_count": 75,
   "metadata": {
    "execution": {
     "iopub.execute_input": "2021-09-17T08:13:58.963356Z",
     "iopub.status.busy": "2021-09-17T08:13:58.963093Z",
     "iopub.status.idle": "2021-09-17T08:13:58.976288Z",
     "shell.execute_reply": "2021-09-17T08:13:58.975370Z",
     "shell.execute_reply.started": "2021-09-17T08:13:58.963329Z"
    }
   },
   "outputs": [],
   "source": [
    "\"\"\"Concatnating the datasets: train and valid\"\"\"\n",
    "df_full_train = pd.concat([df_train, df_val])"
   ]
  },
  {
   "cell_type": "code",
   "execution_count": 76,
   "metadata": {
    "execution": {
     "iopub.execute_input": "2021-09-17T08:14:07.032062Z",
     "iopub.status.busy": "2021-09-17T08:14:07.031792Z",
     "iopub.status.idle": "2021-09-17T08:14:07.042294Z",
     "shell.execute_reply": "2021-09-17T08:14:07.041653Z",
     "shell.execute_reply.started": "2021-09-17T08:14:07.032034Z"
    }
   },
   "outputs": [],
   "source": [
    "\"\"\"Full Train dataset with index dropped. As they are of no use.\"\"\"\n",
    "df_full_train = df_full_train.reset_index(drop=True)"
   ]
  },
  {
   "cell_type": "code",
   "execution_count": 77,
   "metadata": {
    "execution": {
     "iopub.execute_input": "2021-09-17T08:14:52.485659Z",
     "iopub.status.busy": "2021-09-17T08:14:52.485332Z",
     "iopub.status.idle": "2021-09-17T08:14:52.595071Z",
     "shell.execute_reply": "2021-09-17T08:14:52.593966Z",
     "shell.execute_reply.started": "2021-09-17T08:14:52.485620Z"
    }
   },
   "outputs": [],
   "source": [
    "\"\"\"Creating X and y\"\"\"\n",
    "X_full_train = prepare_X(df_full_train)\n",
    "y_full_train = np.concatenate([y_train, y_val])"
   ]
  },
  {
   "cell_type": "code",
   "execution_count": 78,
   "metadata": {
    "execution": {
     "iopub.execute_input": "2021-09-17T08:14:52.813938Z",
     "iopub.status.busy": "2021-09-17T08:14:52.813661Z",
     "iopub.status.idle": "2021-09-17T08:14:52.829974Z",
     "shell.execute_reply": "2021-09-17T08:14:52.828966Z",
     "shell.execute_reply.started": "2021-09-17T08:14:52.813911Z"
    }
   },
   "outputs": [],
   "source": [
    "\"\"\"Building model\"\"\"\n",
    "w0, w = train_linear_regression_reg(X_full_train, y_full_train, r=0.001)"
   ]
  },
  {
   "cell_type": "code",
   "execution_count": 79,
   "metadata": {
    "execution": {
     "iopub.execute_input": "2021-09-17T08:15:11.047713Z",
     "iopub.status.busy": "2021-09-17T08:15:11.047395Z",
     "iopub.status.idle": "2021-09-17T08:15:11.108352Z",
     "shell.execute_reply": "2021-09-17T08:15:11.107093Z",
     "shell.execute_reply.started": "2021-09-17T08:15:11.047682Z"
    }
   },
   "outputs": [
    {
     "data": {
      "text/plain": [
       "0.4517749309383914"
      ]
     },
     "execution_count": 79,
     "metadata": {},
     "output_type": "execute_result"
    }
   ],
   "source": [
    "\"\"\"Preparing X, Predicting and Evaluating model\"\"\"\n",
    "X_test = prepare_X(df_test)\n",
    "y_pred = w0 + X_test.dot(w)\n",
    "score = rmse(y_test, y_pred)\n",
    "score"
   ]
  },
  {
   "cell_type": "code",
   "execution_count": 80,
   "metadata": {
    "execution": {
     "iopub.execute_input": "2021-09-17T08:15:13.611467Z",
     "iopub.status.busy": "2021-09-17T08:15:13.610507Z",
     "iopub.status.idle": "2021-09-17T08:15:13.618699Z",
     "shell.execute_reply": "2021-09-17T08:15:13.617810Z",
     "shell.execute_reply.started": "2021-09-17T08:15:13.611399Z"
    }
   },
   "outputs": [
    {
     "data": {
      "text/plain": [
       "{'make': 'toyota',\n",
       " 'model': 'sienna',\n",
       " 'year': 2015,\n",
       " 'engine_fuel_type': 'regular_unleaded',\n",
       " 'engine_hp': 266.0,\n",
       " 'engine_cylinders': 6.0,\n",
       " 'transmission_type': 'automatic',\n",
       " 'driven_wheels': 'front_wheel_drive',\n",
       " 'number_of_doors': 4.0,\n",
       " 'market_category': nan,\n",
       " 'vehicle_size': 'large',\n",
       " 'vehicle_style': 'passenger_minivan',\n",
       " 'highway_mpg': 25,\n",
       " 'city_mpg': 18,\n",
       " 'popularity': 2031}"
      ]
     },
     "execution_count": 80,
     "metadata": {},
     "output_type": "execute_result"
    }
   ],
   "source": [
    "\"\"\"Checking our model on random car selected\"\"\"\n",
    "car = df_test.iloc[20].to_dict()\n",
    "car"
   ]
  },
  {
   "cell_type": "code",
   "execution_count": 81,
   "metadata": {
    "execution": {
     "iopub.execute_input": "2021-09-17T08:15:31.306309Z",
     "iopub.status.busy": "2021-09-17T08:15:31.305410Z",
     "iopub.status.idle": "2021-09-17T08:15:31.323867Z",
     "shell.execute_reply": "2021-09-17T08:15:31.323000Z",
     "shell.execute_reply.started": "2021-09-17T08:15:31.306245Z"
    }
   },
   "outputs": [
    {
     "data": {
      "text/html": [
       "<div>\n",
       "<style scoped>\n",
       "    .dataframe tbody tr th:only-of-type {\n",
       "        vertical-align: middle;\n",
       "    }\n",
       "\n",
       "    .dataframe tbody tr th {\n",
       "        vertical-align: top;\n",
       "    }\n",
       "\n",
       "    .dataframe thead th {\n",
       "        text-align: right;\n",
       "    }\n",
       "</style>\n",
       "<table border=\"1\" class=\"dataframe\">\n",
       "  <thead>\n",
       "    <tr style=\"text-align: right;\">\n",
       "      <th></th>\n",
       "      <th>make</th>\n",
       "      <th>model</th>\n",
       "      <th>year</th>\n",
       "      <th>engine_fuel_type</th>\n",
       "      <th>engine_hp</th>\n",
       "      <th>engine_cylinders</th>\n",
       "      <th>transmission_type</th>\n",
       "      <th>driven_wheels</th>\n",
       "      <th>number_of_doors</th>\n",
       "      <th>market_category</th>\n",
       "      <th>vehicle_size</th>\n",
       "      <th>vehicle_style</th>\n",
       "      <th>highway_mpg</th>\n",
       "      <th>city_mpg</th>\n",
       "      <th>popularity</th>\n",
       "    </tr>\n",
       "  </thead>\n",
       "  <tbody>\n",
       "    <tr>\n",
       "      <th>0</th>\n",
       "      <td>toyota</td>\n",
       "      <td>sienna</td>\n",
       "      <td>2015</td>\n",
       "      <td>regular_unleaded</td>\n",
       "      <td>266.0</td>\n",
       "      <td>6.0</td>\n",
       "      <td>automatic</td>\n",
       "      <td>front_wheel_drive</td>\n",
       "      <td>4.0</td>\n",
       "      <td>NaN</td>\n",
       "      <td>large</td>\n",
       "      <td>passenger_minivan</td>\n",
       "      <td>25</td>\n",
       "      <td>18</td>\n",
       "      <td>2031</td>\n",
       "    </tr>\n",
       "  </tbody>\n",
       "</table>\n",
       "</div>"
      ],
      "text/plain": [
       "     make   model  year  engine_fuel_type  engine_hp  engine_cylinders  \\\n",
       "0  toyota  sienna  2015  regular_unleaded      266.0               6.0   \n",
       "\n",
       "  transmission_type      driven_wheels  number_of_doors  market_category  \\\n",
       "0         automatic  front_wheel_drive              4.0              NaN   \n",
       "\n",
       "  vehicle_size      vehicle_style  highway_mpg  city_mpg  popularity  \n",
       "0        large  passenger_minivan           25        18        2031  "
      ]
     },
     "execution_count": 81,
     "metadata": {},
     "output_type": "execute_result"
    }
   ],
   "source": [
    "\"\"\"Making dataset out of given dictionary\"\"\"\n",
    "df_small = pd.DataFrame([car])\n",
    "df_small"
   ]
  },
  {
   "cell_type": "code",
   "execution_count": 82,
   "metadata": {
    "execution": {
     "iopub.execute_input": "2021-09-17T08:15:38.741523Z",
     "iopub.status.busy": "2021-09-17T08:15:38.741182Z",
     "iopub.status.idle": "2021-09-17T08:15:38.781639Z",
     "shell.execute_reply": "2021-09-17T08:15:38.780672Z",
     "shell.execute_reply.started": "2021-09-17T08:15:38.741489Z"
    }
   },
   "outputs": [],
   "source": [
    "\"\"\"Creating X\"\"\"\n",
    "X_small = prepare_X(df_small)"
   ]
  },
  {
   "cell_type": "code",
   "execution_count": 83,
   "metadata": {
    "execution": {
     "iopub.execute_input": "2021-09-17T08:15:50.230605Z",
     "iopub.status.busy": "2021-09-17T08:15:50.230294Z",
     "iopub.status.idle": "2021-09-17T08:15:50.237404Z",
     "shell.execute_reply": "2021-09-17T08:15:50.236542Z",
     "shell.execute_reply.started": "2021-09-17T08:15:50.230577Z"
    }
   },
   "outputs": [
    {
     "data": {
      "text/plain": [
       "10.656470061051593"
      ]
     },
     "execution_count": 83,
     "metadata": {},
     "output_type": "execute_result"
    }
   ],
   "source": [
    "\"\"\"Predicting y\"\"\"\n",
    "y_pred = w0 + X_small.dot(w)\n",
    "y_pred = y_pred[0]\n",
    "y_pred"
   ]
  },
  {
   "cell_type": "code",
   "execution_count": 84,
   "metadata": {
    "execution": {
     "iopub.execute_input": "2021-09-17T08:15:57.871946Z",
     "iopub.status.busy": "2021-09-17T08:15:57.871665Z",
     "iopub.status.idle": "2021-09-17T08:15:57.878496Z",
     "shell.execute_reply": "2021-09-17T08:15:57.877479Z",
     "shell.execute_reply.started": "2021-09-17T08:15:57.871900Z"
    }
   },
   "outputs": [
    {
     "data": {
      "text/plain": [
       "42465.46824585576"
      ]
     },
     "execution_count": 84,
     "metadata": {},
     "output_type": "execute_result"
    }
   ],
   "source": [
    "\"\"\"Undoing Log by using exp\"\"\"\n",
    "np.expm1(y_pred)"
   ]
  },
  {
   "cell_type": "code",
   "execution_count": 85,
   "metadata": {
    "execution": {
     "iopub.execute_input": "2021-09-17T08:16:05.851405Z",
     "iopub.status.busy": "2021-09-17T08:16:05.850733Z",
     "iopub.status.idle": "2021-09-17T08:16:05.856779Z",
     "shell.execute_reply": "2021-09-17T08:16:05.856201Z",
     "shell.execute_reply.started": "2021-09-17T08:16:05.851369Z"
    }
   },
   "outputs": [
    {
     "data": {
      "text/plain": [
       "35000.00000000001"
      ]
     },
     "execution_count": 85,
     "metadata": {},
     "output_type": "execute_result"
    }
   ],
   "source": [
    "\"\"\"Checking what was the real value of that car.\"\"\"\n",
    "np.expm1(y_test[20])"
   ]
  },
  {
   "cell_type": "code",
   "execution_count": null,
   "metadata": {},
   "outputs": [],
   "source": []
  },
  {
   "cell_type": "code",
   "execution_count": null,
   "metadata": {},
   "outputs": [],
   "source": []
  }
 ],
 "metadata": {
  "kernelspec": {
   "display_name": "Python 3",
   "language": "python",
   "name": "python3"
  },
  "language_info": {
   "codemirror_mode": {
    "name": "ipython",
    "version": 3
   },
   "file_extension": ".py",
   "mimetype": "text/x-python",
   "name": "python",
   "nbconvert_exporter": "python",
   "pygments_lexer": "ipython3",
   "version": "3.8.8"
  }
 },
 "nbformat": 4,
 "nbformat_minor": 4
}
